{
 "cells": [
  {
   "cell_type": "code",
   "execution_count": 826,
   "metadata": {},
   "outputs": [
    {
     "data": {
      "text/plain": [
       "4307"
      ]
     },
     "execution_count": 826,
     "metadata": {},
     "output_type": "execute_result"
    }
   ],
   "source": [
    "import json\n",
    "import numpy as np\n",
    "import pandas as pd\n",
    "import seaborn as sns\n",
    "import matplotlib.pyplot as plt\n",
    "import gc\n",
    "%matplotlib inline\n",
    "gc.collect()"
   ]
  },
  {
   "cell_type": "code",
   "execution_count": 827,
   "metadata": {},
   "outputs": [],
   "source": [
    "import os\n",
    "Path = \"data\"\n",
    "filelist = os.listdir(Path)"
   ]
  },
  {
   "cell_type": "code",
   "execution_count": null,
   "metadata": {},
   "outputs": [],
   "source": [
    "\n"
   ]
  },
  {
   "cell_type": "code",
   "execution_count": null,
   "metadata": {},
   "outputs": [],
   "source": []
  },
  {
   "cell_type": "code",
   "execution_count": null,
   "metadata": {},
   "outputs": [],
   "source": []
  },
  {
   "cell_type": "code",
   "execution_count": 828,
   "metadata": {},
   "outputs": [],
   "source": [
    "#Arquivo JSON\n",
    "arquivo_json = open('data/00000337320138260506.json','r')\n",
    "dados_json = json.load(arquivo_json)"
   ]
  },
  {
   "cell_type": "code",
   "execution_count": 829,
   "metadata": {},
   "outputs": [],
   "source": [
    "#Grandes categorias\n",
    "numero = dados_json['numero']\n",
    "processos = dados_json['processos']\n",
    "publicacoes = dados_json['publicacoes']"
   ]
  },
  {
   "cell_type": "code",
   "execution_count": 847,
   "metadata": {},
   "outputs": [],
   "source": [
    "class Prep:\n",
    "    \n",
    "    def __init__(self,numero,processos,publicacoes):\n",
    "        self.numero = numero\n",
    "        self.processos = processos\n",
    "        self.publicacoes = publicacoes\n",
    "        \n",
    "    def prep_num_processo(self):\n",
    "        proc = self.processos[0]['processo'] #Fonte: andamentos\n",
    "        id_proc = np.array([self.numero]) #Fonte: cabeçalho\n",
    "        \n",
    "        #Numero do processo - Fonte: cabeçalho\n",
    "        df_id = pd.DataFrame(id_proc,columns=['id'])\n",
    "        \n",
    "        #Quebra do numero do processo - Fonte: andamentos\n",
    "        p = proc.split('.')\n",
    "\n",
    "        num = int(p[0].split('-')[0]+p[0].split('-')[1])\n",
    "        ano_inicio = int(p[1])\n",
    "        ramo = int(p[2])\n",
    "        tribunal = int(p[3])\n",
    "        vara_orig = int(p[4])\n",
    "\n",
    "        arr = np.array([[num, ano_inicio, ramo, tribunal, vara_orig]])\n",
    "\n",
    "        df_proc = pd.DataFrame(arr,columns=['num_seq','ano_inicio','ramo','tribunal','vara_orig'])\n",
    "        \n",
    "        #Concatenacao\n",
    "        df = pd.concat([df_id, df_proc],axis=1)\n",
    "        \n",
    "        return df"
   ]
  },
  {
   "cell_type": "code",
   "execution_count": 848,
   "metadata": {},
   "outputs": [],
   "source": [
    "prep = Prep(numero, processos, publicacoes)"
   ]
  },
  {
   "cell_type": "markdown",
   "metadata": {},
   "source": [
    "# Processos"
   ]
  },
  {
   "cell_type": "code",
   "execution_count": 849,
   "metadata": {},
   "outputs": [
    {
     "data": {
      "text/html": [
       "<div>\n",
       "<style scoped>\n",
       "    .dataframe tbody tr th:only-of-type {\n",
       "        vertical-align: middle;\n",
       "    }\n",
       "\n",
       "    .dataframe tbody tr th {\n",
       "        vertical-align: top;\n",
       "    }\n",
       "\n",
       "    .dataframe thead th {\n",
       "        text-align: right;\n",
       "    }\n",
       "</style>\n",
       "<table border=\"1\" class=\"dataframe\">\n",
       "  <thead>\n",
       "    <tr style=\"text-align: right;\">\n",
       "      <th></th>\n",
       "      <th>id</th>\n",
       "    </tr>\n",
       "  </thead>\n",
       "  <tbody>\n",
       "    <tr>\n",
       "      <th>0</th>\n",
       "      <td>0000033-73.2013.8.26.0506</td>\n",
       "    </tr>\n",
       "  </tbody>\n",
       "</table>\n",
       "</div>"
      ],
      "text/plain": [
       "                          id\n",
       "0  0000033-73.2013.8.26.0506"
      ]
     },
     "execution_count": 849,
     "metadata": {},
     "output_type": "execute_result"
    }
   ],
   "source": [
    "arr = np.array([prep.numero])\n",
    "df_id = pd.DataFrame(arr,columns=['id'])\n",
    "df_id"
   ]
  },
  {
   "cell_type": "code",
   "execution_count": 850,
   "metadata": {},
   "outputs": [
    {
     "data": {
      "text/html": [
       "<div>\n",
       "<style scoped>\n",
       "    .dataframe tbody tr th:only-of-type {\n",
       "        vertical-align: middle;\n",
       "    }\n",
       "\n",
       "    .dataframe tbody tr th {\n",
       "        vertical-align: top;\n",
       "    }\n",
       "\n",
       "    .dataframe thead th {\n",
       "        text-align: right;\n",
       "    }\n",
       "</style>\n",
       "<table border=\"1\" class=\"dataframe\">\n",
       "  <thead>\n",
       "    <tr style=\"text-align: right;\">\n",
       "      <th></th>\n",
       "      <th>id</th>\n",
       "      <th>num_seq</th>\n",
       "      <th>ano_inicio</th>\n",
       "      <th>ramo</th>\n",
       "      <th>tribunal</th>\n",
       "      <th>vara_orig</th>\n",
       "    </tr>\n",
       "  </thead>\n",
       "  <tbody>\n",
       "    <tr>\n",
       "      <th>0</th>\n",
       "      <td>0000033-73.2013.8.26.0506</td>\n",
       "      <td>3373</td>\n",
       "      <td>2013</td>\n",
       "      <td>8</td>\n",
       "      <td>26</td>\n",
       "      <td>506</td>\n",
       "    </tr>\n",
       "  </tbody>\n",
       "</table>\n",
       "</div>"
      ],
      "text/plain": [
       "                          id  num_seq  ano_inicio  ramo  tribunal  vara_orig\n",
       "0  0000033-73.2013.8.26.0506     3373        2013     8        26        506"
      ]
     },
     "execution_count": 850,
     "metadata": {},
     "output_type": "execute_result"
    }
   ],
   "source": [
    "#def prep_num_processo(obj):\n",
    "#    proc = obj.processos[0]['processo']\n",
    "#    p = proc.split('.')\n",
    "#    \n",
    "#    num = int(p[0].split('-')[0]+p[0].split('-')[1])\n",
    "#    ano_inicio = int(p[1])\n",
    "#    ramo = int(p[2])\n",
    "#    tribunal = int(p[3])\n",
    "#    vara_orig = int(p[4])\n",
    "#    \n",
    "#    arr = np.array([[num, ano_inicio, ramo, tribunal, vara_orig]])\n",
    "#    \n",
    "#    df = pd.DataFrame(arr,columns=['num_seq','ano_inicio','ramo','tribunal','vara_orig'])\n",
    "#    return df\n",
    "\n",
    "\n",
    "df_processo = prep.prep_num_processo()\n",
    "df_processo\n"
   ]
  },
  {
   "cell_type": "code",
   "execution_count": null,
   "metadata": {},
   "outputs": [],
   "source": []
  },
  {
   "cell_type": "markdown",
   "metadata": {},
   "source": [
    "## Informações Básicas"
   ]
  },
  {
   "cell_type": "code",
   "execution_count": 793,
   "metadata": {},
   "outputs": [],
   "source": [
    "classe = prep.processos[0]['classe']\n",
    "classe_area = prep.processos[0]['classe_area']\n",
    "assunto = prep.processos[0]['assunto']\n",
    "outros_assuntos = prep.processos[0]['outros_assuntos']\n",
    "juiz = prep.processos[0]['juiz']\n",
    "valor = prep.processos[0]['valor']\n",
    "audiencias = prep.processos[0]['audiencias']\n",
    "incidentes = prep.processos[0]['audiencias']\n",
    "total_andamentos = prep.processos[0]['total_andamentos']\n",
    "\n",
    "df_base = pd.DataFrame(np.array([[classe, classe_area, assunto, outros_assuntos, juiz, audiencias, incidentes,valor,total_andamentos]]), columns=['classe', 'classe_area', 'assunto', 'outros_assuntos', 'juiz', 'audiencias', 'incidentes','valor','total_andamentos'])"
   ]
  },
  {
   "cell_type": "code",
   "execution_count": 794,
   "metadata": {},
   "outputs": [
    {
     "data": {
      "text/html": [
       "<div>\n",
       "<style scoped>\n",
       "    .dataframe tbody tr th:only-of-type {\n",
       "        vertical-align: middle;\n",
       "    }\n",
       "\n",
       "    .dataframe tbody tr th {\n",
       "        vertical-align: top;\n",
       "    }\n",
       "\n",
       "    .dataframe thead th {\n",
       "        text-align: right;\n",
       "    }\n",
       "</style>\n",
       "<table border=\"1\" class=\"dataframe\">\n",
       "  <thead>\n",
       "    <tr style=\"text-align: right;\">\n",
       "      <th></th>\n",
       "      <th>classe</th>\n",
       "      <th>classe_area</th>\n",
       "      <th>assunto</th>\n",
       "      <th>outros_assuntos</th>\n",
       "      <th>juiz</th>\n",
       "      <th>audiencias</th>\n",
       "      <th>incidentes</th>\n",
       "      <th>valor</th>\n",
       "      <th>total_andamentos</th>\n",
       "    </tr>\n",
       "  </thead>\n",
       "  <tbody>\n",
       "    <tr>\n",
       "      <th>0</th>\n",
       "      <td>Procedimento Comum</td>\n",
       "      <td>Cível</td>\n",
       "      <td>Contratos Bancários</td>\n",
       "      <td>None</td>\n",
       "      <td>Francisco Camara Marques Pereira</td>\n",
       "      <td>None</td>\n",
       "      <td>None</td>\n",
       "      <td>R$ 52.741,64</td>\n",
       "      <td>95</td>\n",
       "    </tr>\n",
       "  </tbody>\n",
       "</table>\n",
       "</div>"
      ],
      "text/plain": [
       "               classe classe_area              assunto outros_assuntos  \\\n",
       "0  Procedimento Comum       Cível  Contratos Bancários            None   \n",
       "\n",
       "                               juiz audiencias incidentes         valor  \\\n",
       "0  Francisco Camara Marques Pereira       None       None  R$ 52.741,64   \n",
       "\n",
       "  total_andamentos  \n",
       "0               95  "
      ]
     },
     "execution_count": 794,
     "metadata": {},
     "output_type": "execute_result"
    }
   ],
   "source": [
    "df_base"
   ]
  },
  {
   "cell_type": "markdown",
   "metadata": {},
   "source": [
    "## Partes"
   ]
  },
  {
   "cell_type": "code",
   "execution_count": 735,
   "metadata": {},
   "outputs": [
    {
     "data": {
      "text/html": [
       "<div>\n",
       "<style scoped>\n",
       "    .dataframe tbody tr th:only-of-type {\n",
       "        vertical-align: middle;\n",
       "    }\n",
       "\n",
       "    .dataframe tbody tr th {\n",
       "        vertical-align: top;\n",
       "    }\n",
       "\n",
       "    .dataframe thead th {\n",
       "        text-align: right;\n",
       "    }\n",
       "</style>\n",
       "<table border=\"1\" class=\"dataframe\">\n",
       "  <thead>\n",
       "    <tr style=\"text-align: right;\">\n",
       "      <th></th>\n",
       "      <th>Reqte</th>\n",
       "      <th>Reqda</th>\n",
       "    </tr>\n",
       "  </thead>\n",
       "  <tbody>\n",
       "    <tr>\n",
       "      <th>0</th>\n",
       "      <td>[Itaú Unibanco S. A.]</td>\n",
       "      <td>[Renir da Silva Mendes]</td>\n",
       "    </tr>\n",
       "  </tbody>\n",
       "</table>\n",
       "</div>"
      ],
      "text/plain": [
       "                   Reqte                    Reqda\n",
       "0  [Itaú Unibanco S. A.]  [Renir da Silva Mendes]"
      ]
     },
     "execution_count": 735,
     "metadata": {},
     "output_type": "execute_result"
    }
   ],
   "source": [
    "#Parte 0\n",
    "#partes_tipo_0 = processos[0]['partes'][0]['tipo']\n",
    "#partes_nome_0 = processos[0]['partes'][0]['nome']\n",
    "#Parte 1\n",
    "#partes_tipo_1 = processos[0]['partes'][1]['tipo']\n",
    "#partes_nome_1 = processos[0]['partes'][1]['nome']\n",
    "\n",
    "a=np.array(processos[0]['partes'])\n",
    "a.size\n",
    "out_tipo = []\n",
    "out_reqte= []\n",
    "out_reqda = []\n",
    "for i in range(a.size):\n",
    "    tipo = processos[0]['partes'][i]['tipo']\n",
    "    if tipo == 'Reqte':\n",
    "        out_reqte.append(processos[0]['partes'][i]['nome'])\n",
    "    elif tipo == 'Reqda':\n",
    "        out_reqda.append(processos[0]['partes'][i]['nome'])\n",
    "arr=[[out_reqte, out_reqda]]\n",
    "df_partes = pd.DataFrame(arr,columns = ['Reqte','Reqda'])\n",
    "df_partes"
   ]
  },
  {
   "cell_type": "code",
   "execution_count": null,
   "metadata": {},
   "outputs": [],
   "source": []
  },
  {
   "cell_type": "code",
   "execution_count": null,
   "metadata": {},
   "outputs": [],
   "source": []
  },
  {
   "cell_type": "markdown",
   "metadata": {},
   "source": [
    "## Advogados"
   ]
  },
  {
   "cell_type": "code",
   "execution_count": 736,
   "metadata": {},
   "outputs": [],
   "source": [
    "#Advogado 0\n",
    "#advogados_tipo_0 = processos[0]['advogados'][0]['tipo']\n",
    "#advogados_nome_0 = processos[0]['advogados'][0]['nome']\n",
    "#Advogado 1 \n",
    "#advogados_tipo_1 = processos[0]['advogados'][1]['tipo']\n",
    "#advogados_nome_1 = processos[0]['advogados'][1]['nome']"
   ]
  },
  {
   "cell_type": "code",
   "execution_count": 737,
   "metadata": {},
   "outputs": [
    {
     "data": {
      "text/html": [
       "<div>\n",
       "<style scoped>\n",
       "    .dataframe tbody tr th:only-of-type {\n",
       "        vertical-align: middle;\n",
       "    }\n",
       "\n",
       "    .dataframe tbody tr th {\n",
       "        vertical-align: top;\n",
       "    }\n",
       "\n",
       "    .dataframe thead th {\n",
       "        text-align: right;\n",
       "    }\n",
       "</style>\n",
       "<table border=\"1\" class=\"dataframe\">\n",
       "  <thead>\n",
       "    <tr style=\"text-align: right;\">\n",
       "      <th></th>\n",
       "      <th>Advogados</th>\n",
       "    </tr>\n",
       "  </thead>\n",
       "  <tbody>\n",
       "    <tr>\n",
       "      <th>0</th>\n",
       "      <td>[Jorge Donizeti Sanchez, Viviane Zerbinatti de...</td>\n",
       "    </tr>\n",
       "  </tbody>\n",
       "</table>\n",
       "</div>"
      ],
      "text/plain": [
       "                                           Advogados\n",
       "0  [Jorge Donizeti Sanchez, Viviane Zerbinatti de..."
      ]
     },
     "execution_count": 737,
     "metadata": {},
     "output_type": "execute_result"
    }
   ],
   "source": [
    "a=np.array(processos[0]['advogados'])\n",
    "a.size\n",
    "out_advogados = []\n",
    "for i in range(a.size):\n",
    "    out_advogados.append(processos[0]['advogados'][i]['nome'])\n",
    "arr=[[out_advogados]]\n",
    "df_advogados = pd.DataFrame(arr,columns = ['Advogados'])\n",
    "df_advogados"
   ]
  },
  {
   "cell_type": "code",
   "execution_count": null,
   "metadata": {},
   "outputs": [],
   "source": []
  },
  {
   "cell_type": "markdown",
   "metadata": {},
   "source": [
    "## Andamentos e Anexos"
   ]
  },
  {
   "cell_type": "code",
   "execution_count": 738,
   "metadata": {},
   "outputs": [],
   "source": [
    "#Andamento t\n",
    "andamentos_data_0 = processos[0]['andamentos'][0]['data']\n",
    "andamentos_descricao_0 = processos[0]['andamentos'][0]['descricao']\n",
    "andamentos_anexo_0 = processos[0]['andamentos'][0]['anexo']\n",
    "andamentos_anexo_0_label = {}\n",
    "andamentos_anexo_0_conteudo = {}\n",
    "#Andamento t-1\n",
    "andamentos_data_1 = processos[0]['andamentos'][1]['data']\n",
    "andamentos_descricao_1 = processos[0]['andamentos'][1]['descricao']\n",
    "andamentos_anexo_1 = processos[0]['andamentos'][1]['anexo']\n",
    "andamentos_anexo_0_label = {}\n",
    "andamentos_anexo_0_conteudo = {}\n",
    "#Andamento t-2\n",
    "andamentos_data_2 = processos[0]['andamentos'][2]['data']\n",
    "andamentos_descricao_2 = processos[0]['andamentos'][2]['descricao']\n",
    "andamentos_anexo_2 = processos[0]['andamentos'][2]['anexo']\n",
    "andamentos_anexo_2_label = processos[0]['andamentos'][2]['anexo']['label']\n",
    "andamentos_anexo_2_conteudo = processos[0]['andamentos'][2]['anexo']['conteudo']\n"
   ]
  },
  {
   "cell_type": "code",
   "execution_count": 739,
   "metadata": {},
   "outputs": [
    {
     "data": {
      "text/html": [
       "<div>\n",
       "<style scoped>\n",
       "    .dataframe tbody tr th:only-of-type {\n",
       "        vertical-align: middle;\n",
       "    }\n",
       "\n",
       "    .dataframe tbody tr th {\n",
       "        vertical-align: top;\n",
       "    }\n",
       "\n",
       "    .dataframe thead th {\n",
       "        text-align: right;\n",
       "    }\n",
       "</style>\n",
       "<table border=\"1\" class=\"dataframe\">\n",
       "  <thead>\n",
       "    <tr style=\"text-align: right;\">\n",
       "      <th></th>\n",
       "      <th>dt_andamentos</th>\n",
       "      <th>andamentos</th>\n",
       "    </tr>\n",
       "  </thead>\n",
       "  <tbody>\n",
       "    <tr>\n",
       "      <th>0</th>\n",
       "      <td>[20/09/2017, 19/09/2017, 15/09/2017, 15/09/201...</td>\n",
       "      <td>[Certidão de Publicação Expedida   Relação :03...</td>\n",
       "    </tr>\n",
       "  </tbody>\n",
       "</table>\n",
       "</div>"
      ],
      "text/plain": [
       "                                       dt_andamentos  \\\n",
       "0  [20/09/2017, 19/09/2017, 15/09/2017, 15/09/201...   \n",
       "\n",
       "                                          andamentos  \n",
       "0  [Certidão de Publicação Expedida   Relação :03...  "
      ]
     },
     "execution_count": 739,
     "metadata": {},
     "output_type": "execute_result"
    }
   ],
   "source": [
    "a=np.array(processos[0]['andamentos'])\n",
    "a.size\n",
    "out_data = []\n",
    "out_descricao = []\n",
    "for i in range(a.size):\n",
    "    out_data.append(processos[0]['andamentos'][i]['data'])\n",
    "    out_descricao.append(processos[0]['andamentos'][i]['descricao'])\n",
    "arr=[[out_data,out_descricao]]\n",
    "df_andamentos = pd.DataFrame(arr,columns = ['dt_andamentos','andamentos'])\n",
    "df_andamentos"
   ]
  },
  {
   "cell_type": "code",
   "execution_count": 740,
   "metadata": {},
   "outputs": [],
   "source": [
    "#a=np.array(processos[0]['andamentos'])\n",
    "#a.size\n",
    "#out_data = []\n",
    "#out_descricao = []\n",
    "#for i in range(a.size):\n",
    "#    out_data.append(processos[0]['andamentos'][i]['data'])\n",
    "#    out_descricao.append(processos[0]['andamentos'][i]['descricao'])\n",
    "#    out_anexo.append(processos[0]['andamentos'][i]['anexo'])\n",
    "#df_andamentos = pd.DataFrame(np.array([out_descricao]),columns=out_data)\n",
    "#df_andamentos"
   ]
  },
  {
   "cell_type": "code",
   "execution_count": null,
   "metadata": {},
   "outputs": [],
   "source": []
  },
  {
   "cell_type": "markdown",
   "metadata": {},
   "source": [
    "## Petições"
   ]
  },
  {
   "cell_type": "code",
   "execution_count": 741,
   "metadata": {},
   "outputs": [],
   "source": [
    "#Petição 0\n",
    "peticoes_data_0 = processos[0]['peticoes'][0]['data']\n",
    "peticoes_tipo_0 = processos[0]['peticoes'][0]['tipo']\n",
    "#Petição 1\n",
    "peticoes_data_1 = processos[0]['peticoes'][1]['data']\n",
    "peticoes_tipo_1 = processos[0]['peticoes'][1]['tipo']"
   ]
  },
  {
   "cell_type": "code",
   "execution_count": 742,
   "metadata": {},
   "outputs": [
    {
     "data": {
      "text/html": [
       "<div>\n",
       "<style scoped>\n",
       "    .dataframe tbody tr th:only-of-type {\n",
       "        vertical-align: middle;\n",
       "    }\n",
       "\n",
       "    .dataframe tbody tr th {\n",
       "        vertical-align: top;\n",
       "    }\n",
       "\n",
       "    .dataframe thead th {\n",
       "        text-align: right;\n",
       "    }\n",
       "</style>\n",
       "<table border=\"1\" class=\"dataframe\">\n",
       "  <thead>\n",
       "    <tr style=\"text-align: right;\">\n",
       "      <th></th>\n",
       "      <th>dt_peticoes</th>\n",
       "      <th>peticoes_tipo</th>\n",
       "    </tr>\n",
       "  </thead>\n",
       "  <tbody>\n",
       "    <tr>\n",
       "      <th>0</th>\n",
       "      <td>[19/02/2013, 23/07/2014, 02/12/2015, 02/12/201...</td>\n",
       "      <td>[Petição Intermediária, Contrarrazões de Apela...</td>\n",
       "    </tr>\n",
       "  </tbody>\n",
       "</table>\n",
       "</div>"
      ],
      "text/plain": [
       "                                         dt_peticoes  \\\n",
       "0  [19/02/2013, 23/07/2014, 02/12/2015, 02/12/201...   \n",
       "\n",
       "                                       peticoes_tipo  \n",
       "0  [Petição Intermediária, Contrarrazões de Apela...  "
      ]
     },
     "execution_count": 742,
     "metadata": {},
     "output_type": "execute_result"
    }
   ],
   "source": [
    "a=np.array(processos[0]['peticoes'])\n",
    "a.size\n",
    "out_data = []\n",
    "out_tipo = []\n",
    "for i in range(a.size):\n",
    "    out_data.append(processos[0]['peticoes'][i]['data'])\n",
    "    out_tipo.append(processos[0]['peticoes'][i]['tipo'])\n",
    "arr=[[out_data,out_tipo]]\n",
    "df_peticoes = pd.DataFrame(arr,columns = ['dt_peticoes','peticoes_tipo'])\n",
    "df_peticoes"
   ]
  },
  {
   "cell_type": "code",
   "execution_count": 743,
   "metadata": {},
   "outputs": [],
   "source": [
    "#a=np.array(processos[0]['peticoes'])\n",
    "#a.size\n",
    "#out_data = []\n",
    "#out_tipo = []\n",
    "#for i in range(a.size):\n",
    "#    out_data.append(processos[0]['peticoes'][i]['data'])\n",
    "#    out_tipo.append(processos[0]['peticoes'][i]['tipo'])\n",
    "#df_peticoes = pd.DataFrame(np.array([out_tipo]),columns=out_data)\n",
    "#df_peticoes"
   ]
  },
  {
   "cell_type": "markdown",
   "metadata": {},
   "source": [
    "# Publicações"
   ]
  },
  {
   "cell_type": "code",
   "execution_count": 744,
   "metadata": {},
   "outputs": [],
   "source": [
    "#numeroCNJ = publicacoes[0]['numeroCNJ']\n",
    "#numeroAntigo = publicacoes[0]['numeroAntigo']\n",
    "#numeroUnificado = publicacoes[0]['numeroUnificado']\n",
    "numeroInstancia = publicacoes[0]['numeroInstancia']\n",
    "#anoPublicacao = publicacoes[0]['anoPublicacao']\n",
    "dataPublicacao = publicacoes[0]['dataPublicacao']\n",
    "#diario = publicacoes[0]['diario']\n",
    "#diarioUF = publicacoes[0]['diarioUF']\n",
    "#cidadeComarcaDescricao = publicacoes[0]['cidadeComarcaDescricao']\n",
    "varaDescricao = publicacoes[0]['varaDescricao']\n",
    "arquivada = publicacoes[0]['arquivada']\n",
    "complemento = publicacoes[0]['complemento']\n",
    "#Conteudo\n",
    "conteudo = publicacoes[0]['conteudo']\n",
    "despacho = publicacoes[0]['despacho']\n",
    "#Empresa\n",
    "#codVinculo = publicacoes[0]['codVinculo']\n",
    "#vinculo = publicacoes[0]['vinculo']\n",
    "#Busca\n",
    "codTermo = publicacoes[0]['codTermo']\n",
    "termoEncontrado = publicacoes[0]['termoEncontrado']\n",
    "#buscaLote = publicacoes[0]['buscaLote']\n",
    "buscaLoteAno = publicacoes[0]['buscaLoteAno']\n",
    "buscaLoteMes = publicacoes[0]['buscaLoteMes']\n",
    "#buscaLoteGrupo = publicacoes[0]['buscaLoteGrupo']\n",
    "#Correcoes\n",
    "#corrigido = publicacoes[0]['corrigido']\n",
    "#corrigidoCidade = publicacoes[0]['corrigidoCidade']\n",
    "#corrigidoConteudo = publicacoes[0]['corrigidoConteudo']\n",
    "#corrigidoDespacho = publicacoes[0]['corrigidoDespacho']\n",
    "#corrigidoNumero = publicacoes[0]['corrigidoNumero']\n",
    "#corrigidoOrgao = publicacoes[0]['corrigidoOrgao']\n",
    "#corrigidoVara = publicacoes[0]['corrigidoVara']\n",
    "#conferido = publicacoes[0]['conferido']"
   ]
  },
  {
   "cell_type": "code",
   "execution_count": 745,
   "metadata": {},
   "outputs": [
    {
     "data": {
      "text/html": [
       "<div>\n",
       "<style scoped>\n",
       "    .dataframe tbody tr th:only-of-type {\n",
       "        vertical-align: middle;\n",
       "    }\n",
       "\n",
       "    .dataframe tbody tr th {\n",
       "        vertical-align: top;\n",
       "    }\n",
       "\n",
       "    .dataframe thead th {\n",
       "        text-align: right;\n",
       "    }\n",
       "</style>\n",
       "<table border=\"1\" class=\"dataframe\">\n",
       "  <thead>\n",
       "    <tr style=\"text-align: right;\">\n",
       "      <th></th>\n",
       "      <th>dt_peticoes</th>\n",
       "      <th>numeroInstancia</th>\n",
       "      <th>conteudo</th>\n",
       "    </tr>\n",
       "  </thead>\n",
       "  <tbody>\n",
       "    <tr>\n",
       "      <th>0</th>\n",
       "      <td>[Dec 12 2014 12:00:00:000AM, Jun 12 2015 12:00...</td>\n",
       "      <td>[2, 2, 1, 1, 1, 1, 1, 1, 2, 1, 1, 2, 1, 1, 1, 1]</td>\n",
       "      <td>[Nº 0000033-73.2013.8.26.0506- Apelação-Ribeir...</td>\n",
       "    </tr>\n",
       "  </tbody>\n",
       "</table>\n",
       "</div>"
      ],
      "text/plain": [
       "                                         dt_peticoes  \\\n",
       "0  [Dec 12 2014 12:00:00:000AM, Jun 12 2015 12:00...   \n",
       "\n",
       "                                    numeroInstancia  \\\n",
       "0  [2, 2, 1, 1, 1, 1, 1, 1, 2, 1, 1, 2, 1, 1, 1, 1]   \n",
       "\n",
       "                                            conteudo  \n",
       "0  [Nº 0000033-73.2013.8.26.0506- Apelação-Ribeir...  "
      ]
     },
     "execution_count": 745,
     "metadata": {},
     "output_type": "execute_result"
    }
   ],
   "source": [
    "a=np.array(publicacoes)\n",
    "a.size\n",
    "out_data = []\n",
    "out_numeroInstancia = []\n",
    "out_conteudo = []\n",
    "for i in range(a.size):\n",
    "    out_data.append(publicacoes[i]['dataPublicacao'])\n",
    "    out_numeroInstancia.append(publicacoes[i]['numeroInstancia'])\n",
    "    out_conteudo.append(publicacoes[i]['conteudo'])\n",
    "    \n",
    "arr=[[out_data,out_numeroInstancia, out_conteudo]]\n",
    "df_publicacoes = pd.DataFrame(arr,columns = ['dt_peticoes','numeroInstancia','conteudo'])\n",
    "df_publicacoes"
   ]
  },
  {
   "cell_type": "code",
   "execution_count": 702,
   "metadata": {},
   "outputs": [],
   "source": [
    "#a=np.array(publicacoes)\n",
    "#a.size\n",
    "#out_data = []\n",
    "#out_numeroInstancia = []\n",
    "#out_conteudo = []\n",
    "#out_termoEncontrado = []\n",
    "#for i in range(a.size):\n",
    "#    out_data.append(publicacoes[i]['dataPublicacao'])\n",
    "#    out_numeroInstancia.append(publicacoes[i]['numeroInstancia'])\n",
    "#    out_conteudo.append(publicacoes[i]['conteudo'])\n",
    "#    out_termoEncontrado.append(publicacoes[i]['termoEncontrado'])\n",
    "#df_publicacao = pd.DataFrame(np.array([out_numeroInstancia,out_termoEncontrado, out_conteudo]),columns=out_data)\n",
    "#df_publicacao\n",
    "#arr=np.array([[numeroCNJ, numeroAntigo,numeroUnificado,numeroInstancia, anoPublicacao, dataPublicacao, diario,diarioUF, cidadeComarcaDescricao, varaDescricao,arquivada,complemento, conteudo, despacho, codVinculo,vinculo, codTermo, termoEncontrado,buscaLote,buscaLoteAno,buscaLoteMes,buscaLoteGrupo,corrigido,corrigidoCidade,corrigidoConteudo,corrigidoDespacho,corrigidoNumero,corrigidoOrgao,corrigidoVara,conferido]])\n",
    "#col=['numeroCNJ', 'numeroAntigo','numeroUnificado','numeroInstancia', 'anoPublicacao', 'dataPublicacao', 'diario', 'diarioUF', 'cidadeComarcaDescricao', 'varaDescricao','arquivada','complemento', 'conteudo', 'despacho', 'codVinculo','vinculo', 'codTermo', 'termoEncontrado','buscaLote','buscaLoteAno','buscaLoteMes','buscaLoteGrupo','corrigido','corrigidoCidade','corrigidoConteudo','corrigidoDespacho','corrigidoNumero','corrigidoOrgao','corrigidoVara','conferido'] \n",
    "\n",
    "#df_publicacoes = pd.DataFrame (arr,columns=col)   \n",
    "#df"
   ]
  },
  {
   "cell_type": "markdown",
   "metadata": {},
   "source": [
    "# Data Frame"
   ]
  },
  {
   "cell_type": "code",
   "execution_count": 747,
   "metadata": {},
   "outputs": [
    {
     "data": {
      "text/html": [
       "<div>\n",
       "<style scoped>\n",
       "    .dataframe tbody tr th:only-of-type {\n",
       "        vertical-align: middle;\n",
       "    }\n",
       "\n",
       "    .dataframe tbody tr th {\n",
       "        vertical-align: top;\n",
       "    }\n",
       "\n",
       "    .dataframe thead th {\n",
       "        text-align: right;\n",
       "    }\n",
       "</style>\n",
       "<table border=\"1\" class=\"dataframe\">\n",
       "  <thead>\n",
       "    <tr style=\"text-align: right;\">\n",
       "      <th></th>\n",
       "      <th>id</th>\n",
       "      <th>num_seq</th>\n",
       "      <th>ano_inicio</th>\n",
       "      <th>ramo</th>\n",
       "      <th>tribunal</th>\n",
       "      <th>vara_orig</th>\n",
       "      <th>classe</th>\n",
       "      <th>classe_area</th>\n",
       "      <th>assunto</th>\n",
       "      <th>outros_assuntos</th>\n",
       "      <th>...</th>\n",
       "      <th>incidentes</th>\n",
       "      <th>valor</th>\n",
       "      <th>total_andamentos</th>\n",
       "      <th>Reqte</th>\n",
       "      <th>Reqda</th>\n",
       "      <th>Advogados</th>\n",
       "      <th>dt_andamentos</th>\n",
       "      <th>andamentos</th>\n",
       "      <th>dt_peticoes</th>\n",
       "      <th>peticoes_tipo</th>\n",
       "    </tr>\n",
       "  </thead>\n",
       "  <tbody>\n",
       "    <tr>\n",
       "      <th>0</th>\n",
       "      <td>0000033-73.2013.8.26.0506</td>\n",
       "      <td>3373</td>\n",
       "      <td>2013</td>\n",
       "      <td>8</td>\n",
       "      <td>26</td>\n",
       "      <td>506</td>\n",
       "      <td>Procedimento Comum</td>\n",
       "      <td>Cível</td>\n",
       "      <td>Contratos Bancários</td>\n",
       "      <td>None</td>\n",
       "      <td>...</td>\n",
       "      <td>None</td>\n",
       "      <td>R$ 52.741,64</td>\n",
       "      <td>95</td>\n",
       "      <td>[Itaú Unibanco S. A.]</td>\n",
       "      <td>[Renir da Silva Mendes]</td>\n",
       "      <td>[Jorge Donizeti Sanchez, Viviane Zerbinatti de...</td>\n",
       "      <td>[20/09/2017, 19/09/2017, 15/09/2017, 15/09/201...</td>\n",
       "      <td>[Certidão de Publicação Expedida   Relação :03...</td>\n",
       "      <td>[19/02/2013, 23/07/2014, 02/12/2015, 02/12/201...</td>\n",
       "      <td>[Petição Intermediária, Contrarrazões de Apela...</td>\n",
       "    </tr>\n",
       "  </tbody>\n",
       "</table>\n",
       "<p>1 rows × 22 columns</p>\n",
       "</div>"
      ],
      "text/plain": [
       "                          id  num_seq  ano_inicio  ramo  tribunal  vara_orig  \\\n",
       "0  0000033-73.2013.8.26.0506     3373        2013     8        26        506   \n",
       "\n",
       "               classe classe_area              assunto outros_assuntos  \\\n",
       "0  Procedimento Comum       Cível  Contratos Bancários            None   \n",
       "\n",
       "                         ...                         incidentes         valor  \\\n",
       "0                        ...                               None  R$ 52.741,64   \n",
       "\n",
       "  total_andamentos                  Reqte                    Reqda  \\\n",
       "0               95  [Itaú Unibanco S. A.]  [Renir da Silva Mendes]   \n",
       "\n",
       "                                           Advogados  \\\n",
       "0  [Jorge Donizeti Sanchez, Viviane Zerbinatti de...   \n",
       "\n",
       "                                       dt_andamentos  \\\n",
       "0  [20/09/2017, 19/09/2017, 15/09/2017, 15/09/201...   \n",
       "\n",
       "                                          andamentos  \\\n",
       "0  [Certidão de Publicação Expedida   Relação :03...   \n",
       "\n",
       "                                         dt_peticoes  \\\n",
       "0  [19/02/2013, 23/07/2014, 02/12/2015, 02/12/201...   \n",
       "\n",
       "                                       peticoes_tipo  \n",
       "0  [Petição Intermediária, Contrarrazões de Apela...  \n",
       "\n",
       "[1 rows x 22 columns]"
      ]
     },
     "execution_count": 747,
     "metadata": {},
     "output_type": "execute_result"
    }
   ],
   "source": [
    "df = pd.concat([df_id,df_processo,df_base,df_partes,df_advogados,df_andamentos,df_peticoes],axis=1)\n",
    "df"
   ]
  },
  {
   "cell_type": "code",
   "execution_count": null,
   "metadata": {},
   "outputs": [],
   "source": []
  },
  {
   "cell_type": "code",
   "execution_count": null,
   "metadata": {},
   "outputs": [],
   "source": []
  },
  {
   "cell_type": "code",
   "execution_count": null,
   "metadata": {},
   "outputs": [],
   "source": []
  },
  {
   "cell_type": "code",
   "execution_count": null,
   "metadata": {},
   "outputs": [],
   "source": []
  },
  {
   "cell_type": "code",
   "execution_count": null,
   "metadata": {},
   "outputs": [],
   "source": []
  },
  {
   "cell_type": "code",
   "execution_count": null,
   "metadata": {},
   "outputs": [],
   "source": []
  },
  {
   "cell_type": "code",
   "execution_count": null,
   "metadata": {},
   "outputs": [],
   "source": []
  },
  {
   "cell_type": "code",
   "execution_count": null,
   "metadata": {},
   "outputs": [],
   "source": []
  },
  {
   "cell_type": "code",
   "execution_count": null,
   "metadata": {},
   "outputs": [],
   "source": []
  },
  {
   "cell_type": "code",
   "execution_count": null,
   "metadata": {},
   "outputs": [],
   "source": []
  },
  {
   "cell_type": "code",
   "execution_count": null,
   "metadata": {},
   "outputs": [],
   "source": []
  },
  {
   "cell_type": "code",
   "execution_count": null,
   "metadata": {},
   "outputs": [],
   "source": []
  },
  {
   "cell_type": "code",
   "execution_count": null,
   "metadata": {},
   "outputs": [],
   "source": []
  },
  {
   "cell_type": "code",
   "execution_count": null,
   "metadata": {},
   "outputs": [],
   "source": []
  }
 ],
 "metadata": {
  "kernelspec": {
   "display_name": "Python 3",
   "language": "python",
   "name": "python3"
  },
  "language_info": {
   "codemirror_mode": {
    "name": "ipython",
    "version": 3
   },
   "file_extension": ".py",
   "mimetype": "text/x-python",
   "name": "python",
   "nbconvert_exporter": "python",
   "pygments_lexer": "ipython3",
   "version": "3.6.4"
  }
 },
 "nbformat": 4,
 "nbformat_minor": 2
}
